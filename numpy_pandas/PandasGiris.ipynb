{
 "cells": [
  {
   "cell_type": "code",
   "execution_count": 1,
   "id": "1e8428d9",
   "metadata": {},
   "outputs": [],
   "source": [
    "import numpy as np\n",
    "import pandas as pd"
   ]
  },
  {
   "cell_type": "markdown",
   "id": "8f6ae930",
   "metadata": {},
   "source": [
    "## Seriler"
   ]
  },
  {
   "cell_type": "code",
   "execution_count": 3,
   "id": "2d13e692",
   "metadata": {},
   "outputs": [],
   "source": [
    "myDict= {\"Atil\":50,\"Zeynep\":40,\"Mehmet\":30}"
   ]
  },
  {
   "cell_type": "code",
   "execution_count": 4,
   "id": "76daddba",
   "metadata": {},
   "outputs": [
    {
     "data": {
      "text/plain": [
       "Atil      50\n",
       "Zeynep    40\n",
       "Mehmet    30\n",
       "dtype: int64"
      ]
     },
     "execution_count": 4,
     "metadata": {},
     "output_type": "execute_result"
    }
   ],
   "source": [
    "pd.Series(myDict)"
   ]
  },
  {
   "cell_type": "code",
   "execution_count": 9,
   "id": "409f6a0f",
   "metadata": {},
   "outputs": [],
   "source": [
    "myAge=[40,60,70]\n",
    "myNames=[\"Atil\",\"Zeynep\",\"Mehmet\"]"
   ]
  },
  {
   "cell_type": "code",
   "execution_count": 10,
   "id": "fffe7d95",
   "metadata": {},
   "outputs": [
    {
     "data": {
      "text/plain": [
       "0    40\n",
       "1    60\n",
       "2    70\n",
       "dtype: int64"
      ]
     },
     "execution_count": 10,
     "metadata": {},
     "output_type": "execute_result"
    }
   ],
   "source": [
    "pd.Series(myAge)"
   ]
  },
  {
   "cell_type": "code",
   "execution_count": 11,
   "id": "e43498d9",
   "metadata": {},
   "outputs": [
    {
     "data": {
      "text/plain": [
       "0      Atil\n",
       "1    Zeynep\n",
       "2    Mehmet\n",
       "dtype: object"
      ]
     },
     "execution_count": 11,
     "metadata": {},
     "output_type": "execute_result"
    }
   ],
   "source": [
    "pd.Series(myNames)"
   ]
  },
  {
   "cell_type": "code",
   "execution_count": 12,
   "id": "3dcd31a8",
   "metadata": {},
   "outputs": [
    {
     "data": {
      "text/plain": [
       "Atil      40\n",
       "Zeynep    60\n",
       "Mehmet    70\n",
       "dtype: int64"
      ]
     },
     "execution_count": 12,
     "metadata": {},
     "output_type": "execute_result"
    }
   ],
   "source": [
    "pd.Series(myAge,myNames)"
   ]
  },
  {
   "cell_type": "code",
   "execution_count": 13,
   "id": "b437bdb0",
   "metadata": {},
   "outputs": [
    {
     "data": {
      "text/plain": [
       "Atil      40\n",
       "Zeynep    60\n",
       "Mehmet    70\n",
       "dtype: int64"
      ]
     },
     "execution_count": 13,
     "metadata": {},
     "output_type": "execute_result"
    }
   ],
   "source": [
    "pd.Series(data=myAge,index=myNames)"
   ]
  },
  {
   "cell_type": "code",
   "execution_count": 18,
   "id": "5a5bd0bf",
   "metadata": {},
   "outputs": [],
   "source": [
    "numpyDizisi=np.array([50,40,70])"
   ]
  },
  {
   "cell_type": "code",
   "execution_count": 19,
   "id": "f109ccea",
   "metadata": {},
   "outputs": [
    {
     "data": {
      "text/plain": [
       "0    50\n",
       "1    40\n",
       "2    70\n",
       "dtype: int32"
      ]
     },
     "execution_count": 19,
     "metadata": {},
     "output_type": "execute_result"
    }
   ],
   "source": [
    "pd.Series(numpyDizisi)"
   ]
  },
  {
   "cell_type": "code",
   "execution_count": 20,
   "id": "d3aabc79",
   "metadata": {},
   "outputs": [
    {
     "data": {
      "text/plain": [
       "Atil      50\n",
       "Zeynep    40\n",
       "Mehmet    70\n",
       "dtype: int32"
      ]
     },
     "execution_count": 20,
     "metadata": {},
     "output_type": "execute_result"
    }
   ],
   "source": [
    "pd.Series(numpyDizisi,myNames)"
   ]
  },
  {
   "cell_type": "code",
   "execution_count": 21,
   "id": "5e500400",
   "metadata": {},
   "outputs": [
    {
     "data": {
      "text/plain": [
       "1     Atil\n",
       "2    Atlas\n",
       "3    Osman\n",
       "dtype: object"
      ]
     },
     "execution_count": 21,
     "metadata": {},
     "output_type": "execute_result"
    }
   ],
   "source": [
    "pd.Series([\"Atil\",\"Atlas\",\"Osman\"],[1,2,3])"
   ]
  },
  {
   "cell_type": "code",
   "execution_count": 22,
   "id": "ae8f7073",
   "metadata": {},
   "outputs": [],
   "source": [
    "yarismaSonucu1=pd.Series([10,5,1],[\"Atil\",\"Atlas\",\"Osman\"])"
   ]
  },
  {
   "cell_type": "code",
   "execution_count": 23,
   "id": "22bf7c6e",
   "metadata": {},
   "outputs": [
    {
     "data": {
      "text/plain": [
       "Atil     10\n",
       "Atlas     5\n",
       "Osman     1\n",
       "dtype: int64"
      ]
     },
     "execution_count": 23,
     "metadata": {},
     "output_type": "execute_result"
    }
   ],
   "source": [
    "yarismaSonucu1"
   ]
  },
  {
   "cell_type": "code",
   "execution_count": 24,
   "id": "f5f76719",
   "metadata": {},
   "outputs": [],
   "source": [
    "yarismaSonucu2=pd.Series([20,10,8],[\"Atil\",\"Atlas\",\"Osman\"])"
   ]
  },
  {
   "cell_type": "code",
   "execution_count": 25,
   "id": "83864ccc",
   "metadata": {},
   "outputs": [
    {
     "data": {
      "text/plain": [
       "Atil     20\n",
       "Atlas    10\n",
       "Osman     8\n",
       "dtype: int64"
      ]
     },
     "execution_count": 25,
     "metadata": {},
     "output_type": "execute_result"
    }
   ],
   "source": [
    "yarismaSonucu2\n"
   ]
  },
  {
   "cell_type": "code",
   "execution_count": 27,
   "id": "9c79a505",
   "metadata": {},
   "outputs": [
    {
     "data": {
      "text/plain": [
       "10"
      ]
     },
     "execution_count": 27,
     "metadata": {},
     "output_type": "execute_result"
    }
   ],
   "source": [
    "yarismaSonucu2[\"Atlas\"]"
   ]
  },
  {
   "cell_type": "code",
   "execution_count": 28,
   "id": "8d5d8f51",
   "metadata": {},
   "outputs": [],
   "source": [
    "sonSonuc=yarismaSonucu1+ yarismaSonucu2"
   ]
  },
  {
   "cell_type": "code",
   "execution_count": 29,
   "id": "02b9ac2c",
   "metadata": {},
   "outputs": [
    {
     "data": {
      "text/plain": [
       "Atil     30\n",
       "Atlas    15\n",
       "Osman     9\n",
       "dtype: int64"
      ]
     },
     "execution_count": 29,
     "metadata": {},
     "output_type": "execute_result"
    }
   ],
   "source": [
    "sonSonuc"
   ]
  },
  {
   "cell_type": "code",
   "execution_count": 32,
   "id": "25585018",
   "metadata": {},
   "outputs": [],
   "source": [
    "differentSeries1=pd.Series([20,30,40,50],[\"a\",\"b\",\"c\",\"d\"])"
   ]
  },
  {
   "cell_type": "code",
   "execution_count": 34,
   "id": "91f3c80a",
   "metadata": {},
   "outputs": [],
   "source": [
    "differentSeries2=pd.Series([10,5,4,1],[\"a\",\"c\",\"f\",\"g\"])"
   ]
  },
  {
   "cell_type": "code",
   "execution_count": 35,
   "id": "aad30d4b",
   "metadata": {},
   "outputs": [
    {
     "data": {
      "text/plain": [
       "a    20\n",
       "b    30\n",
       "c    40\n",
       "d    50\n",
       "dtype: int64"
      ]
     },
     "execution_count": 35,
     "metadata": {},
     "output_type": "execute_result"
    }
   ],
   "source": [
    "differentSeries1"
   ]
  },
  {
   "cell_type": "code",
   "execution_count": 36,
   "id": "3ea767b2",
   "metadata": {},
   "outputs": [
    {
     "data": {
      "text/plain": [
       "a    10\n",
       "c     5\n",
       "f     4\n",
       "g     1\n",
       "dtype: int64"
      ]
     },
     "execution_count": 36,
     "metadata": {},
     "output_type": "execute_result"
    }
   ],
   "source": [
    "differentSeries2"
   ]
  },
  {
   "cell_type": "code",
   "execution_count": 37,
   "id": "bf1b78de",
   "metadata": {},
   "outputs": [
    {
     "data": {
      "text/plain": [
       "a    30.0\n",
       "b     NaN\n",
       "c    45.0\n",
       "d     NaN\n",
       "f     NaN\n",
       "g     NaN\n",
       "dtype: float64"
      ]
     },
     "execution_count": 37,
     "metadata": {},
     "output_type": "execute_result"
    }
   ],
   "source": [
    "differentSeries1+differentSeries2"
   ]
  },
  {
   "cell_type": "code",
   "execution_count": null,
   "id": "e3b87ac3",
   "metadata": {},
   "outputs": [],
   "source": []
  }
 ],
 "metadata": {
  "kernelspec": {
   "display_name": "Python 3 (ipykernel)",
   "language": "python",
   "name": "python3"
  },
  "language_info": {
   "codemirror_mode": {
    "name": "ipython",
    "version": 3
   },
   "file_extension": ".py",
   "mimetype": "text/x-python",
   "name": "python",
   "nbconvert_exporter": "python",
   "pygments_lexer": "ipython3",
   "version": "3.9.7"
  }
 },
 "nbformat": 4,
 "nbformat_minor": 5
}
