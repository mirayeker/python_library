{
 "cells": [
  {
   "cell_type": "code",
   "execution_count": 6,
   "id": "852d8dbf",
   "metadata": {},
   "outputs": [],
   "source": [
    "import numpy as np\n",
    "import matplotlib.pyplot as plt \n",
    "%matplotlib inline "
   ]
  },
  {
   "cell_type": "code",
   "execution_count": 7,
   "id": "0f7ee90a",
   "metadata": {},
   "outputs": [],
   "source": [
    "npD1=np.linspace(0,10,20)"
   ]
  },
  {
   "cell_type": "code",
   "execution_count": 8,
   "id": "f77f50b3",
   "metadata": {},
   "outputs": [],
   "source": [
    "npD2=npD1 ** 2"
   ]
  },
  {
   "cell_type": "code",
   "execution_count": 13,
   "id": "5fd021b4",
   "metadata": {},
   "outputs": [
    {
     "data": {
      "text/plain": [
       "[<matplotlib.lines.Line2D at 0x13092771d90>]"
      ]
     },
     "execution_count": 13,
     "metadata": {},
     "output_type": "execute_result"
    },
    {
     "data": {
      "image/png": "[encoded data removed]",
      "text/plain": [
       "<Figure size 432x288 with 1 Axes>"
      ]
     },
     "metadata": {
      "needs_background": "light"
     },
     "output_type": "display_data"
    }
   ],
   "source": [
    "(benimFigur,benimEksen) =plt.subplots()\n",
    "benimEksen.plot(npD1,npD2,color=\"#00CED1\",alpha=0.4)\n",
    "benimEksen.plot(npD2,npD1,\"r\")"
   ]
  },
  {
   "cell_type": "code",
   "execution_count": null,
   "id": "7242a862",
   "metadata": {},
   "outputs": [],
   "source": []
  },
  {
   "cell_type": "code",
   "execution_count": null,
   "id": "0c088ebe",
   "metadata": {},
   "outputs": [],
   "source": []
  }
 ],
 "metadata": {
  "kernelspec": {
   "display_name": "Python 3 (ipykernel)",
   "language": "python",
   "name": "python3"
  },
  "language_info": {
   "codemirror_mode": {
    "name": "ipython",
    "version": 3
   },
   "file_extension": ".py",
   "mimetype": "text/x-python",
   "name": "python",
   "nbconvert_exporter": "python",
   "pygments_lexer": "ipython3",
   "version": "3.9.7"
  }
 },
 "nbformat": 4,
 "nbformat_minor": 5
}
